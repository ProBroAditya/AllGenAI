{
 "cells": [
  {
   "cell_type": "code",
   "execution_count": 3,
   "id": "53d1af7f",
   "metadata": {},
   "outputs": [],
   "source": [
    "! pip install transformers accelerate --quiet"
   ]
  },
  {
   "cell_type": "code",
   "execution_count": 8,
   "id": "b3280f32",
   "metadata": {},
   "outputs": [
    {
     "name": "stderr",
     "output_type": "stream",
     "text": [
      "Some weights of the model checkpoint at Salesforce/codegen-350M-multi were not used when initializing CodeGenForCausalLM: ['transformer.h.0.attn.causal_mask', 'transformer.h.1.attn.causal_mask', 'transformer.h.10.attn.causal_mask', 'transformer.h.11.attn.causal_mask', 'transformer.h.12.attn.causal_mask', 'transformer.h.13.attn.causal_mask', 'transformer.h.14.attn.causal_mask', 'transformer.h.15.attn.causal_mask', 'transformer.h.16.attn.causal_mask', 'transformer.h.17.attn.causal_mask', 'transformer.h.18.attn.causal_mask', 'transformer.h.19.attn.causal_mask', 'transformer.h.2.attn.causal_mask', 'transformer.h.3.attn.causal_mask', 'transformer.h.4.attn.causal_mask', 'transformer.h.5.attn.causal_mask', 'transformer.h.6.attn.causal_mask', 'transformer.h.7.attn.causal_mask', 'transformer.h.8.attn.causal_mask', 'transformer.h.9.attn.causal_mask']\n",
      "- This IS expected if you are initializing CodeGenForCausalLM from the checkpoint of a model trained on another task or with another architecture (e.g. initializing a BertForSequenceClassification model from a BertForPreTraining model).\n",
      "- This IS NOT expected if you are initializing CodeGenForCausalLM from the checkpoint of a model that you expect to be exactly identical (initializing a BertForSequenceClassification model from a BertForSequenceClassification model).\n"
     ]
    }
   ],
   "source": [
    "from transformers import AutoModelForCausalLM\n",
    "from transformers import AutoTokenizer\n",
    "import torch\n",
    "model_name=\"Salesforce/codegen-350M-multi\"\n",
    "model=AutoModelForCausalLM.from_pretrained(model_name)"
   ]
  },
  {
   "cell_type": "code",
   "execution_count": 10,
   "id": "1ef98bfa",
   "metadata": {},
   "outputs": [
    {
     "name": "stderr",
     "output_type": "stream",
     "text": [
      "The attention mask and the pad token id were not set. As a consequence, you may observe unexpected behavior. Please pass your input's `attention_mask` to obtain reliable results.\n",
      "Setting `pad_token_id` to `eos_token_id`:50256 for open-end generation.\n"
     ]
    },
    {
     "name": "stdout",
     "output_type": "stream",
     "text": [
      "\n",
      " Generated code\n",
      "\n",
      " Output code to odd or even\n",
      "         * @return {Number} The number of bytes written.\n",
      "         */\n",
      "        write: function (data, type) {\n",
      "            var pos = this.offset;\n",
      "            var end = pos + data.length;\n",
      "            var type = type || \"0\";\n",
      "            var bits = type === \"1\" ? 1 : 0;\n",
      "            var end_bits = type === \"1\" ? 1 : 0;\n",
      "\n",
      "            var buffer = this.buffer;\n",
      "            var length = end - pos;\n",
      "\n",
      "            var result = 0;\n",
      "            if (this.end_bits < end_bits) {\n",
      "                result = 1;\n",
      "            } else if (this.end_bits > end_bits) {\n",
      "                result = end_bits - this.end_bits + 1;\n",
      "            }\n",
      "            for (var i = 0; i < result; i++) {\n",
      "                bits = bits << 1;\n",
      "                if (bits > end_bits) {\n",
      "                    bits = bits - end_bits;\n",
      "                    bits = end_bits - bits;\n",
      "                }\n",
      "                buffer[pos] = (buffer[pos] & 0xFF) | bits;\n"
     ]
    }
   ],
   "source": [
    "tokenizer=AutoTokenizer.from_pretrained(model_name)\n",
    "def generate_code(prompt):\n",
    "    input_txt=f\" Output code to {prompt}\\n\"\n",
    "    inputs=tokenizer.encode(input_txt,return_tensors=\"pt\")\n",
    "    outputs=model.generate(inputs,max_length=256, temperature=0.7,do_sample=True)\n",
    "    code = tokenizer.decode(outputs[0],skip_special_tokens=True)\n",
    "    return code\n",
    "user_prompt=input(\"What code do you want to generate\")\n",
    "output_code=generate_code(user_prompt)\n",
    "print(\"\\n Generated code\\n\")\n",
    "print(output_code)"
   ]
  },
  {
   "cell_type": "code",
   "execution_count": null,
   "id": "f5351d83",
   "metadata": {},
   "outputs": [],
   "source": []
  }
 ],
 "metadata": {
  "kernelspec": {
   "display_name": "Python 3",
   "language": "python",
   "name": "python3"
  },
  "language_info": {
   "codemirror_mode": {
    "name": "ipython",
    "version": 3
   },
   "file_extension": ".py",
   "mimetype": "text/x-python",
   "name": "python",
   "nbconvert_exporter": "python",
   "pygments_lexer": "ipython3",
   "version": "3.12.0"
  }
 },
 "nbformat": 4,
 "nbformat_minor": 5
}
