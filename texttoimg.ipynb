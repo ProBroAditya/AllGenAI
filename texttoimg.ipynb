{
 "cells": [
  {
   "cell_type": "code",
   "execution_count": 1,
   "id": "acf436d9-4725-460a-b2f6-30a3a19a4556",
   "metadata": {},
   "outputs": [
    {
     "name": "stdout",
     "output_type": "stream",
     "text": [
      "Defaulting to user installation because normal site-packages is not writeable\n",
      "Requirement already satisfied: transformers in c:\\users\\adity\\appdata\\roaming\\python\\python313\\site-packages (4.52.4)\n",
      "Collecting diffusers\n",
      "  Downloading diffusers-0.33.1-py3-none-any.whl.metadata (19 kB)\n",
      "Collecting spicy\n",
      "  Downloading spicy-0.16.0-py2.py3-none-any.whl.metadata (310 bytes)\n",
      "Collecting accelerate\n",
      "  Downloading accelerate-1.7.0-py3-none-any.whl.metadata (19 kB)\n",
      "Requirement already satisfied: safetensors in c:\\users\\adity\\appdata\\roaming\\python\\python313\\site-packages (0.5.3)\n",
      "Requirement already satisfied: filelock in c:\\users\\adity\\appdata\\roaming\\python\\python313\\site-packages (from transformers) (3.18.0)\n",
      "Requirement already satisfied: huggingface-hub<1.0,>=0.30.0 in c:\\users\\adity\\appdata\\roaming\\python\\python313\\site-packages (from transformers) (0.32.6)\n",
      "Requirement already satisfied: numpy>=1.17 in c:\\users\\adity\\appdata\\roaming\\python\\python313\\site-packages (from transformers) (2.3.0)\n",
      "Requirement already satisfied: packaging>=20.0 in c:\\users\\adity\\appdata\\roaming\\python\\python313\\site-packages (from transformers) (25.0)\n",
      "Requirement already satisfied: pyyaml>=5.1 in c:\\users\\adity\\appdata\\roaming\\python\\python313\\site-packages (from transformers) (6.0.2)\n",
      "Requirement already satisfied: regex!=2019.12.17 in c:\\users\\adity\\appdata\\roaming\\python\\python313\\site-packages (from transformers) (2024.11.6)\n",
      "Requirement already satisfied: requests in c:\\users\\adity\\appdata\\roaming\\python\\python313\\site-packages (from transformers) (2.32.3)\n",
      "Requirement already satisfied: tokenizers<0.22,>=0.21 in c:\\users\\adity\\appdata\\roaming\\python\\python313\\site-packages (from transformers) (0.21.1)\n",
      "Requirement already satisfied: tqdm>=4.27 in c:\\users\\adity\\appdata\\roaming\\python\\python313\\site-packages (from transformers) (4.67.1)\n",
      "Requirement already satisfied: fsspec>=2023.5.0 in c:\\users\\adity\\appdata\\roaming\\python\\python313\\site-packages (from huggingface-hub<1.0,>=0.30.0->transformers) (2025.5.1)\n",
      "Requirement already satisfied: typing-extensions>=3.7.4.3 in c:\\users\\adity\\appdata\\roaming\\python\\python313\\site-packages (from huggingface-hub<1.0,>=0.30.0->transformers) (4.12.2)\n",
      "Collecting importlib-metadata (from diffusers)\n",
      "  Downloading importlib_metadata-8.7.0-py3-none-any.whl.metadata (4.8 kB)\n",
      "Collecting Pillow (from diffusers)\n",
      "  Downloading pillow-11.2.1-cp313-cp313-win_amd64.whl.metadata (9.1 kB)\n",
      "Requirement already satisfied: scipy in c:\\users\\adity\\appdata\\roaming\\python\\python313\\site-packages (from spicy) (1.15.3)\n",
      "Requirement already satisfied: psutil in c:\\users\\adity\\appdata\\roaming\\python\\python313\\site-packages (from accelerate) (7.0.0)\n",
      "Requirement already satisfied: torch>=2.0.0 in c:\\users\\adity\\appdata\\roaming\\python\\python313\\site-packages (from accelerate) (2.7.1)\n",
      "Requirement already satisfied: sympy>=1.13.3 in c:\\users\\adity\\appdata\\roaming\\python\\python313\\site-packages (from torch>=2.0.0->accelerate) (1.14.0)\n",
      "Requirement already satisfied: networkx in c:\\users\\adity\\appdata\\roaming\\python\\python313\\site-packages (from torch>=2.0.0->accelerate) (3.5)\n",
      "Requirement already satisfied: jinja2 in c:\\users\\adity\\appdata\\roaming\\python\\python313\\site-packages (from torch>=2.0.0->accelerate) (3.1.5)\n",
      "Requirement already satisfied: setuptools in c:\\users\\adity\\appdata\\roaming\\python\\python313\\site-packages (from torch>=2.0.0->accelerate) (80.9.0)\n",
      "Requirement already satisfied: mpmath<1.4,>=1.1.0 in c:\\users\\adity\\appdata\\roaming\\python\\python313\\site-packages (from sympy>=1.13.3->torch>=2.0.0->accelerate) (1.3.0)\n",
      "Requirement already satisfied: colorama in c:\\users\\adity\\appdata\\roaming\\python\\python313\\site-packages (from tqdm>=4.27->transformers) (0.4.6)\n",
      "Collecting zipp>=3.20 (from importlib-metadata->diffusers)\n",
      "  Downloading zipp-3.23.0-py3-none-any.whl.metadata (3.6 kB)\n",
      "Requirement already satisfied: MarkupSafe>=2.0 in c:\\users\\adity\\appdata\\roaming\\python\\python313\\site-packages (from jinja2->torch>=2.0.0->accelerate) (3.0.2)\n",
      "Requirement already satisfied: charset-normalizer<4,>=2 in c:\\users\\adity\\appdata\\roaming\\python\\python313\\site-packages (from requests->transformers) (3.4.1)\n",
      "Requirement already satisfied: idna<4,>=2.5 in c:\\users\\adity\\appdata\\roaming\\python\\python313\\site-packages (from requests->transformers) (3.10)\n",
      "Requirement already satisfied: urllib3<3,>=1.21.1 in c:\\users\\adity\\appdata\\roaming\\python\\python313\\site-packages (from requests->transformers) (2.3.0)\n",
      "Requirement already satisfied: certifi>=2017.4.17 in c:\\users\\adity\\appdata\\roaming\\python\\python313\\site-packages (from requests->transformers) (2025.1.31)\n",
      "Downloading diffusers-0.33.1-py3-none-any.whl (3.6 MB)\n",
      "   ---------------------------------------- 0.0/3.6 MB ? eta -:--:--\n",
      "   ----------- ---------------------------- 1.0/3.6 MB 6.4 MB/s eta 0:00:01\n",
      "   ----------------- ---------------------- 1.6/3.6 MB 3.8 MB/s eta 0:00:01\n",
      "   -------------------------- ------------- 2.4/3.6 MB 3.7 MB/s eta 0:00:01\n",
      "   ----------------------------------- ---- 3.1/3.6 MB 3.8 MB/s eta 0:00:01\n",
      "   ---------------------------------------- 3.6/3.6 MB 3.4 MB/s eta 0:00:00\n",
      "Downloading spicy-0.16.0-py2.py3-none-any.whl (1.7 kB)\n",
      "Downloading accelerate-1.7.0-py3-none-any.whl (362 kB)\n",
      "Downloading importlib_metadata-8.7.0-py3-none-any.whl (27 kB)\n",
      "Downloading zipp-3.23.0-py3-none-any.whl (10 kB)\n",
      "Downloading pillow-11.2.1-cp313-cp313-win_amd64.whl (2.7 MB)\n",
      "   ---------------------------------------- 0.0/2.7 MB ? eta -:--:--\n",
      "   --------------- ------------------------ 1.0/2.7 MB 4.7 MB/s eta 0:00:01\n",
      "   --------------------------- ------------ 1.8/2.7 MB 4.3 MB/s eta 0:00:01\n",
      "   ---------------------------------------- 2.7/2.7 MB 4.0 MB/s eta 0:00:00\n",
      "Installing collected packages: zipp, Pillow, spicy, importlib-metadata, diffusers, accelerate\n",
      "\n",
      "   ---------------------------------------- 0/6 [zipp]\n",
      "   ------ --------------------------------- 1/6 [Pillow]\n",
      "   ------ --------------------------------- 1/6 [Pillow]\n",
      "   ------ --------------------------------- 1/6 [Pillow]\n",
      "   ------ --------------------------------- 1/6 [Pillow]\n",
      "   ------ --------------------------------- 1/6 [Pillow]\n",
      "   ------ --------------------------------- 1/6 [Pillow]\n",
      "   ------ --------------------------------- 1/6 [Pillow]\n",
      "   ------ --------------------------------- 1/6 [Pillow]\n",
      "   ------ --------------------------------- 1/6 [Pillow]\n",
      "   ------ --------------------------------- 1/6 [Pillow]\n",
      "   ------ --------------------------------- 1/6 [Pillow]\n",
      "   ------ --------------------------------- 1/6 [Pillow]\n",
      "   ------ --------------------------------- 1/6 [Pillow]\n",
      "   ------ --------------------------------- 1/6 [Pillow]\n",
      "   ------ --------------------------------- 1/6 [Pillow]\n",
      "   ------ --------------------------------- 1/6 [Pillow]\n",
      "   ------ --------------------------------- 1/6 [Pillow]\n",
      "   ------ --------------------------------- 1/6 [Pillow]\n",
      "   ------ --------------------------------- 1/6 [Pillow]\n",
      "   ------ --------------------------------- 1/6 [Pillow]\n",
      "   ------ --------------------------------- 1/6 [Pillow]\n",
      "   -------------------- ------------------- 3/6 [importlib-metadata]\n",
      "   -------------------- ------------------- 3/6 [importlib-metadata]\n",
      "   -------------------------- ------------- 4/6 [diffusers]\n",
      "   -------------------------- ------------- 4/6 [diffusers]\n",
      "   -------------------------- ------------- 4/6 [diffusers]\n",
      "   -------------------------- ------------- 4/6 [diffusers]\n",
      "   -------------------------- ------------- 4/6 [diffusers]\n",
      "   -------------------------- ------------- 4/6 [diffusers]\n",
      "   -------------------------- ------------- 4/6 [diffusers]\n",
      "   -------------------------- ------------- 4/6 [diffusers]\n",
      "   -------------------------- ------------- 4/6 [diffusers]\n",
      "   -------------------------- ------------- 4/6 [diffusers]\n",
      "   -------------------------- ------------- 4/6 [diffusers]\n",
      "   -------------------------- ------------- 4/6 [diffusers]\n",
      "   -------------------------- ------------- 4/6 [diffusers]\n",
      "   -------------------------- ------------- 4/6 [diffusers]\n",
      "   -------------------------- ------------- 4/6 [diffusers]\n",
      "   -------------------------- ------------- 4/6 [diffusers]\n",
      "   -------------------------- ------------- 4/6 [diffusers]\n",
      "   -------------------------- ------------- 4/6 [diffusers]\n",
      "   -------------------------- ------------- 4/6 [diffusers]\n",
      "   -------------------------- ------------- 4/6 [diffusers]\n",
      "   -------------------------- ------------- 4/6 [diffusers]\n",
      "   -------------------------- ------------- 4/6 [diffusers]\n",
      "   -------------------------- ------------- 4/6 [diffusers]\n",
      "   -------------------------- ------------- 4/6 [diffusers]\n",
      "   -------------------------- ------------- 4/6 [diffusers]\n",
      "   -------------------------- ------------- 4/6 [diffusers]\n",
      "   -------------------------- ------------- 4/6 [diffusers]\n",
      "   -------------------------- ------------- 4/6 [diffusers]\n",
      "   -------------------------- ------------- 4/6 [diffusers]\n",
      "   -------------------------- ------------- 4/6 [diffusers]\n",
      "   -------------------------- ------------- 4/6 [diffusers]\n",
      "   -------------------------- ------------- 4/6 [diffusers]\n",
      "   -------------------------- ------------- 4/6 [diffusers]\n",
      "   -------------------------- ------------- 4/6 [diffusers]\n",
      "   -------------------------- ------------- 4/6 [diffusers]\n",
      "   -------------------------- ------------- 4/6 [diffusers]\n",
      "   -------------------------- ------------- 4/6 [diffusers]\n",
      "   -------------------------- ------------- 4/6 [diffusers]\n",
      "   -------------------------- ------------- 4/6 [diffusers]\n",
      "   -------------------------- ------------- 4/6 [diffusers]\n",
      "   -------------------------- ------------- 4/6 [diffusers]\n",
      "   -------------------------- ------------- 4/6 [diffusers]\n",
      "   -------------------------- ------------- 4/6 [diffusers]\n",
      "   -------------------------- ------------- 4/6 [diffusers]\n",
      "   -------------------------- ------------- 4/6 [diffusers]\n",
      "   -------------------------- ------------- 4/6 [diffusers]\n",
      "   -------------------------- ------------- 4/6 [diffusers]\n",
      "   -------------------------- ------------- 4/6 [diffusers]\n",
      "   -------------------------- ------------- 4/6 [diffusers]\n",
      "   -------------------------- ------------- 4/6 [diffusers]\n",
      "   -------------------------- ------------- 4/6 [diffusers]\n",
      "   -------------------------- ------------- 4/6 [diffusers]\n",
      "   -------------------------- ------------- 4/6 [diffusers]\n",
      "   -------------------------- ------------- 4/6 [diffusers]\n",
      "   -------------------------- ------------- 4/6 [diffusers]\n",
      "   -------------------------- ------------- 4/6 [diffusers]\n",
      "   -------------------------- ------------- 4/6 [diffusers]\n",
      "   -------------------------- ------------- 4/6 [diffusers]\n",
      "   -------------------------- ------------- 4/6 [diffusers]\n",
      "   -------------------------- ------------- 4/6 [diffusers]\n",
      "   -------------------------- ------------- 4/6 [diffusers]\n",
      "   -------------------------- ------------- 4/6 [diffusers]\n",
      "   -------------------------- ------------- 4/6 [diffusers]\n",
      "   -------------------------- ------------- 4/6 [diffusers]\n",
      "   -------------------------- ------------- 4/6 [diffusers]\n",
      "   -------------------------- ------------- 4/6 [diffusers]\n",
      "   -------------------------- ------------- 4/6 [diffusers]\n",
      "   -------------------------- ------------- 4/6 [diffusers]\n",
      "   -------------------------- ------------- 4/6 [diffusers]\n",
      "   -------------------------- ------------- 4/6 [diffusers]\n",
      "   -------------------------- ------------- 4/6 [diffusers]\n",
      "   -------------------------- ------------- 4/6 [diffusers]\n",
      "   -------------------------- ------------- 4/6 [diffusers]\n",
      "   -------------------------- ------------- 4/6 [diffusers]\n",
      "   -------------------------- ------------- 4/6 [diffusers]\n",
      "   -------------------------- ------------- 4/6 [diffusers]\n",
      "   -------------------------- ------------- 4/6 [diffusers]\n",
      "   -------------------------- ------------- 4/6 [diffusers]\n",
      "   -------------------------- ------------- 4/6 [diffusers]\n",
      "   -------------------------- ------------- 4/6 [diffusers]\n",
      "   -------------------------- ------------- 4/6 [diffusers]\n",
      "   -------------------------- ------------- 4/6 [diffusers]\n",
      "   -------------------------- ------------- 4/6 [diffusers]\n",
      "   -------------------------- ------------- 4/6 [diffusers]\n",
      "   -------------------------- ------------- 4/6 [diffusers]\n",
      "   -------------------------- ------------- 4/6 [diffusers]\n",
      "   -------------------------- ------------- 4/6 [diffusers]\n",
      "   -------------------------- ------------- 4/6 [diffusers]\n",
      "   -------------------------- ------------- 4/6 [diffusers]\n",
      "   -------------------------- ------------- 4/6 [diffusers]\n",
      "   -------------------------- ------------- 4/6 [diffusers]\n",
      "   -------------------------- ------------- 4/6 [diffusers]\n",
      "   -------------------------- ------------- 4/6 [diffusers]\n",
      "   -------------------------- ------------- 4/6 [diffusers]\n",
      "   -------------------------- ------------- 4/6 [diffusers]\n",
      "   -------------------------- ------------- 4/6 [diffusers]\n",
      "   -------------------------- ------------- 4/6 [diffusers]\n",
      "   -------------------------- ------------- 4/6 [diffusers]\n",
      "   -------------------------- ------------- 4/6 [diffusers]\n",
      "   -------------------------- ------------- 4/6 [diffusers]\n",
      "   -------------------------- ------------- 4/6 [diffusers]\n",
      "   -------------------------- ------------- 4/6 [diffusers]\n",
      "   -------------------------- ------------- 4/6 [diffusers]\n",
      "   -------------------------- ------------- 4/6 [diffusers]\n",
      "   -------------------------- ------------- 4/6 [diffusers]\n",
      "   -------------------------- ------------- 4/6 [diffusers]\n",
      "   -------------------------- ------------- 4/6 [diffusers]\n",
      "   -------------------------- ------------- 4/6 [diffusers]\n",
      "   -------------------------- ------------- 4/6 [diffusers]\n",
      "   -------------------------- ------------- 4/6 [diffusers]\n",
      "   -------------------------- ------------- 4/6 [diffusers]\n",
      "   -------------------------- ------------- 4/6 [diffusers]\n",
      "   -------------------------- ------------- 4/6 [diffusers]\n",
      "   -------------------------- ------------- 4/6 [diffusers]\n",
      "   -------------------------- ------------- 4/6 [diffusers]\n",
      "   -------------------------- ------------- 4/6 [diffusers]\n",
      "   -------------------------- ------------- 4/6 [diffusers]\n",
      "   -------------------------- ------------- 4/6 [diffusers]\n",
      "   -------------------------- ------------- 4/6 [diffusers]\n",
      "   -------------------------- ------------- 4/6 [diffusers]\n",
      "   -------------------------- ------------- 4/6 [diffusers]\n",
      "   -------------------------- ------------- 4/6 [diffusers]\n",
      "   -------------------------- ------------- 4/6 [diffusers]\n",
      "   -------------------------- ------------- 4/6 [diffusers]\n",
      "   -------------------------- ------------- 4/6 [diffusers]\n",
      "   -------------------------- ------------- 4/6 [diffusers]\n",
      "   -------------------------- ------------- 4/6 [diffusers]\n",
      "   -------------------------- ------------- 4/6 [diffusers]\n",
      "   -------------------------- ------------- 4/6 [diffusers]\n",
      "   -------------------------- ------------- 4/6 [diffusers]\n",
      "   -------------------------- ------------- 4/6 [diffusers]\n",
      "   -------------------------- ------------- 4/6 [diffusers]\n",
      "   -------------------------- ------------- 4/6 [diffusers]\n",
      "   -------------------------- ------------- 4/6 [diffusers]\n",
      "   -------------------------- ------------- 4/6 [diffusers]\n",
      "   -------------------------- ------------- 4/6 [diffusers]\n",
      "   -------------------------- ------------- 4/6 [diffusers]\n",
      "   -------------------------- ------------- 4/6 [diffusers]\n",
      "   --------------------------------- ------ 5/6 [accelerate]\n",
      "   --------------------------------- ------ 5/6 [accelerate]\n",
      "   --------------------------------- ------ 5/6 [accelerate]\n",
      "   --------------------------------- ------ 5/6 [accelerate]\n",
      "   --------------------------------- ------ 5/6 [accelerate]\n",
      "   --------------------------------- ------ 5/6 [accelerate]\n",
      "   --------------------------------- ------ 5/6 [accelerate]\n",
      "   --------------------------------- ------ 5/6 [accelerate]\n",
      "   --------------------------------- ------ 5/6 [accelerate]\n",
      "   --------------------------------- ------ 5/6 [accelerate]\n",
      "   --------------------------------- ------ 5/6 [accelerate]\n",
      "   --------------------------------- ------ 5/6 [accelerate]\n",
      "   --------------------------------- ------ 5/6 [accelerate]\n",
      "   --------------------------------- ------ 5/6 [accelerate]\n",
      "   --------------------------------- ------ 5/6 [accelerate]\n",
      "   --------------------------------- ------ 5/6 [accelerate]\n",
      "   --------------------------------- ------ 5/6 [accelerate]\n",
      "   --------------------------------- ------ 5/6 [accelerate]\n",
      "   --------------------------------- ------ 5/6 [accelerate]\n",
      "   --------------------------------- ------ 5/6 [accelerate]\n",
      "   --------------------------------- ------ 5/6 [accelerate]\n",
      "   --------------------------------- ------ 5/6 [accelerate]\n",
      "   ---------------------------------------- 6/6 [accelerate]\n",
      "\n",
      "Successfully installed Pillow-11.2.1 accelerate-1.7.0 diffusers-0.33.1 importlib-metadata-8.7.0 spicy-0.16.0 zipp-3.23.0\n",
      "Note: you may need to restart the kernel to use updated packages.\n"
     ]
    },
    {
     "name": "stderr",
     "output_type": "stream",
     "text": [
      "  WARNING: The script diffusers-cli.exe is installed in 'C:\\Users\\adity\\AppData\\Roaming\\Python\\Python313\\Scripts' which is not on PATH.\n",
      "  Consider adding this directory to PATH or, if you prefer to suppress this warning, use --no-warn-script-location.\n",
      "  WARNING: The scripts accelerate-config.exe, accelerate-estimate-memory.exe, accelerate-launch.exe, accelerate-merge-weights.exe and accelerate.exe are installed in 'C:\\Users\\adity\\AppData\\Roaming\\Python\\Python313\\Scripts' which is not on PATH.\n",
      "  Consider adding this directory to PATH or, if you prefer to suppress this warning, use --no-warn-script-location.\n"
     ]
    }
   ],
   "source": [
    "pip install transformers diffusers spicy accelerate safetensors"
   ]
  },
  {
   "cell_type": "code",
   "execution_count": null,
   "id": "5ba57802-b261-49eb-a668-a199b5d23b26",
   "metadata": {},
   "outputs": [
    {
     "data": {
      "application/vnd.jupyter.widget-view+json": {
       "model_id": "ff0ae95e12534a44bc960c80c5e49936",
       "version_major": 2,
       "version_minor": 0
      },
      "text/plain": [
       "model_index.json:   0%|          | 0.00/541 [00:00<?, ?B/s]"
      ]
     },
     "metadata": {},
     "output_type": "display_data"
    },
    {
     "name": "stderr",
     "output_type": "stream",
     "text": [
      "C:\\Users\\adity\\AppData\\Roaming\\Python\\Python313\\site-packages\\huggingface_hub\\file_download.py:143: UserWarning: `huggingface_hub` cache-system uses symlinks by default to efficiently store duplicated files but your machine does not support them in C:\\Users\\adity\\.cache\\huggingface\\hub\\models--runwayml--stable-diffusion-v1-5. Caching files will still work but in a degraded version that might require more space on your disk. This warning can be disabled by setting the `HF_HUB_DISABLE_SYMLINKS_WARNING` environment variable. For more details, see https://huggingface.co/docs/huggingface_hub/how-to-cache#limitations.\n",
      "To support symlinks on Windows, you either need to activate Developer Mode or to run Python as an administrator. In order to activate developer mode, see this article: https://docs.microsoft.com/en-us/windows/apps/get-started/enable-your-device-for-development\n",
      "  warnings.warn(message)\n"
     ]
    },
    {
     "data": {
      "application/vnd.jupyter.widget-view+json": {
       "model_id": "baed29dd2d1c4d5c9b0dae67cc807074",
       "version_major": 2,
       "version_minor": 0
      },
      "text/plain": [
       "Fetching 15 files:   0%|          | 0/15 [00:00<?, ?it/s]"
      ]
     },
     "metadata": {},
     "output_type": "display_data"
    },
    {
     "data": {
      "application/vnd.jupyter.widget-view+json": {
       "model_id": "25c206e5f3de4b1ca5a45d94c0e7c72c",
       "version_major": 2,
       "version_minor": 0
      },
      "text/plain": [
       "config.json:   0%|          | 0.00/4.72k [00:00<?, ?B/s]"
      ]
     },
     "metadata": {},
     "output_type": "display_data"
    },
    {
     "data": {
      "application/vnd.jupyter.widget-view+json": {
       "model_id": "6555650e4c594c3b9332a7685f8e4621",
       "version_major": 2,
       "version_minor": 0
      },
      "text/plain": [
       "model.safetensors:   0%|          | 0.00/492M [00:00<?, ?B/s]"
      ]
     },
     "metadata": {},
     "output_type": "display_data"
    },
    {
     "data": {
      "application/vnd.jupyter.widget-view+json": {
       "model_id": "bc77e998a6014e698525bf90318febea",
       "version_major": 2,
       "version_minor": 0
      },
      "text/plain": [
       "model.safetensors:   0%|          | 0.00/1.22G [00:00<?, ?B/s]"
      ]
     },
     "metadata": {},
     "output_type": "display_data"
    },
    {
     "data": {
      "application/vnd.jupyter.widget-view+json": {
       "model_id": "bc67630818864022a6bfda3874df7c8e",
       "version_major": 2,
       "version_minor": 0
      },
      "text/plain": [
       "merges.txt:   0%|          | 0.00/525k [00:00<?, ?B/s]"
      ]
     },
     "metadata": {},
     "output_type": "display_data"
    },
    {
     "data": {
      "application/vnd.jupyter.widget-view+json": {
       "model_id": "1a1ed85f763c44f9af8921e51ef89470",
       "version_major": 2,
       "version_minor": 0
      },
      "text/plain": [
       "special_tokens_map.json:   0%|          | 0.00/472 [00:00<?, ?B/s]"
      ]
     },
     "metadata": {},
     "output_type": "display_data"
    },
    {
     "data": {
      "application/vnd.jupyter.widget-view+json": {
       "model_id": "1c5145eccf284f79a86d9699dea33316",
       "version_major": 2,
       "version_minor": 0
      },
      "text/plain": [
       "tokenizer_config.json:   0%|          | 0.00/806 [00:00<?, ?B/s]"
      ]
     },
     "metadata": {},
     "output_type": "display_data"
    },
    {
     "data": {
      "application/vnd.jupyter.widget-view+json": {
       "model_id": "b37757801c6c4a989cc7d7bd8a4c81ce",
       "version_major": 2,
       "version_minor": 0
      },
      "text/plain": [
       "scheduler_config.json:   0%|          | 0.00/308 [00:00<?, ?B/s]"
      ]
     },
     "metadata": {},
     "output_type": "display_data"
    },
    {
     "data": {
      "application/vnd.jupyter.widget-view+json": {
       "model_id": "4c109674059e4eb299e1e36ebc62e662",
       "version_major": 2,
       "version_minor": 0
      },
      "text/plain": [
       "config.json:   0%|          | 0.00/617 [00:00<?, ?B/s]"
      ]
     },
     "metadata": {},
     "output_type": "display_data"
    },
    {
     "data": {
      "application/vnd.jupyter.widget-view+json": {
       "model_id": "78172d35bd39497f84a18307cfeeaa2f",
       "version_major": 2,
       "version_minor": 0
      },
      "text/plain": [
       "config.json:   0%|          | 0.00/743 [00:00<?, ?B/s]"
      ]
     },
     "metadata": {},
     "output_type": "display_data"
    },
    {
     "data": {
      "application/vnd.jupyter.widget-view+json": {
       "model_id": "2cbd9e160a2a4edcad6f0c21afaf2052",
       "version_major": 2,
       "version_minor": 0
      },
      "text/plain": [
       "vocab.json:   0%|          | 0.00/1.06M [00:00<?, ?B/s]"
      ]
     },
     "metadata": {},
     "output_type": "display_data"
    },
    {
     "data": {
      "application/vnd.jupyter.widget-view+json": {
       "model_id": "1a9f73737762443a9e3cb5afde1bd92e",
       "version_major": 2,
       "version_minor": 0
      },
      "text/plain": [
       "preprocessor_config.json:   0%|          | 0.00/342 [00:00<?, ?B/s]"
      ]
     },
     "metadata": {},
     "output_type": "display_data"
    },
    {
     "data": {
      "application/vnd.jupyter.widget-view+json": {
       "model_id": "4221bce5c2df4902800878c55915bfd5",
       "version_major": 2,
       "version_minor": 0
      },
      "text/plain": [
       "diffusion_pytorch_model.safetensors:   0%|          | 0.00/3.44G [00:00<?, ?B/s]"
      ]
     },
     "metadata": {},
     "output_type": "display_data"
    },
    {
     "data": {
      "application/vnd.jupyter.widget-view+json": {
       "model_id": "f4998a2c68a144c28b2c59edf0d6d8db",
       "version_major": 2,
       "version_minor": 0
      },
      "text/plain": [
       "config.json:   0%|          | 0.00/547 [00:00<?, ?B/s]"
      ]
     },
     "metadata": {},
     "output_type": "display_data"
    },
    {
     "data": {
      "application/vnd.jupyter.widget-view+json": {
       "model_id": "d3c6ca4b68d04e09b84e73ac36b1c73d",
       "version_major": 2,
       "version_minor": 0
      },
      "text/plain": [
       "diffusion_pytorch_model.safetensors:   0%|          | 0.00/335M [00:00<?, ?B/s]"
      ]
     },
     "metadata": {},
     "output_type": "display_data"
    },
    {
     "data": {
      "application/vnd.jupyter.widget-view+json": {
       "model_id": "8d3fc477cc3e438680c154b52331e3c7",
       "version_major": 2,
       "version_minor": 0
      },
      "text/plain": [
       "Loading pipeline components...:   0%|          | 0/7 [00:00<?, ?it/s]"
      ]
     },
     "metadata": {},
     "output_type": "display_data"
    },
    {
     "name": "stderr",
     "output_type": "stream",
     "text": [
      "Pipelines loaded with `dtype=torch.float16` cannot run with `cpu` device. It is not recommended to move them to `cpu` as running them will fail. Please make sure to use an accelerator to run the pipeline in inference, due to the lack of support for`float16` operations on this device in PyTorch. Please, remove the `torch_dtype=torch.float16` argument, or use another device for inference.\n",
      "Pipelines loaded with `dtype=torch.float16` cannot run with `cpu` device. It is not recommended to move them to `cpu` as running them will fail. Please make sure to use an accelerator to run the pipeline in inference, due to the lack of support for`float16` operations on this device in PyTorch. Please, remove the `torch_dtype=torch.float16` argument, or use another device for inference.\n",
      "Pipelines loaded with `dtype=torch.float16` cannot run with `cpu` device. It is not recommended to move them to `cpu` as running them will fail. Please make sure to use an accelerator to run the pipeline in inference, due to the lack of support for`float16` operations on this device in PyTorch. Please, remove the `torch_dtype=torch.float16` argument, or use another device for inference.\n",
      "Pipelines loaded with `dtype=torch.float16` cannot run with `cpu` device. It is not recommended to move them to `cpu` as running them will fail. Please make sure to use an accelerator to run the pipeline in inference, due to the lack of support for`float16` operations on this device in PyTorch. Please, remove the `torch_dtype=torch.float16` argument, or use another device for inference.\n"
     ]
    },
    {
     "data": {
      "application/vnd.jupyter.widget-view+json": {
       "model_id": "00845940931240b0b5d28c25c10bacaf",
       "version_major": 2,
       "version_minor": 0
      },
      "text/plain": [
       "  0%|          | 0/50 [00:00<?, ?it/s]"
      ]
     },
     "metadata": {},
     "output_type": "display_data"
    }
   ],
   "source": [
    "from diffusers import StableDiffusionPipeline \n",
    "import torch\n",
    "\n",
    "pipe = StableDiffusionPipeline.from_pretrained(\n",
    "    \"runwayml/stable-diffusion-v1-5\",\n",
    "    torch_dtype=torch.float16\n",
    ")\n",
    "pipe = pipe.to(\"cuda\" if torch.cuda.is_available() else \"cpu\")\n",
    "\n",
    "prompt=\"Rainy forest with fog\"\n",
    "image=pipe(prompt).images[0]\n",
    "image.show()\n",
    "image.save(\"generated_image.png\")"
   ]
  },
  {
   "cell_type": "code",
   "execution_count": null,
   "id": "27830c65-4d6a-4ae0-ac8a-493377163529",
   "metadata": {},
   "outputs": [],
   "source": []
  }
 ],
 "metadata": {
  "kernelspec": {
   "display_name": "Python 3 (ipykernel)",
   "language": "python",
   "name": "python3"
  },
  "language_info": {
   "codemirror_mode": {
    "name": "ipython",
    "version": 3
   },
   "file_extension": ".py",
   "mimetype": "text/x-python",
   "name": "python",
   "nbconvert_exporter": "python",
   "pygments_lexer": "ipython3",
   "version": "3.13.4"
  }
 },
 "nbformat": 4,
 "nbformat_minor": 5
}
